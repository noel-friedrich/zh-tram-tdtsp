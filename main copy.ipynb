{
 "cells": [
  {
   "cell_type": "code",
   "execution_count": 1,
   "metadata": {},
   "outputs": [
    {
     "name": "stdout",
     "output_type": "stream",
     "text": [
      "loaded routes.txt\n",
      "loaded transfers.txt\n",
      "loaded stops.txt\n",
      "loaded trips.txt\n",
      "loaded stop_times.txt\n",
      "loaded calendar.txt\n",
      "loaded calendar_dates.txt\n",
      "Found 203 Tram Stops (20250128).          \n"
     ]
    }
   ],
   "source": [
    "\"Timetable parsing\"\n",
    "\n",
    "from tramnetwork import *\n",
    "\n",
    "lookup_day = \"20250128\"\n",
    "\n",
    "network = TramNetwork()\n",
    "network.load_day(lookup_day)"
   ]
  },
  {
   "cell_type": "code",
   "execution_count": 2,
   "metadata": {},
   "outputs": [
    {
     "name": "stdout",
     "output_type": "stream",
     "text": [
      "Next Departure from Zürich, Letzistrasse is at 2025-01-28 12:00:18 with T9:\n",
      "[2025-01-28 12:00:06] Zürich, Letzistrasse           (T9) [2025-01-28 12:00:18]\n",
      "[2025-01-28 12:00:54] Zürich, Kinkelstrasse          (T9) [2025-01-28 12:01:06]\n",
      "[2025-01-28 12:02:00] Zürich, Seilbahn Rigiblick     (T9) [2025-01-28 12:02:18]\n",
      "[2025-01-28 12:03:12] Zürich, Winkelriedstrasse      (T9) [2025-01-28 12:03:24]\n",
      "[2025-01-28 12:04:18] Zürich, Haldenbach             (T9) [2025-01-28 12:04:30]\n",
      "[2025-01-28 12:05:42] Zürich, ETH/Universitätsspital (T9) [2025-01-28 12:06:00]\n",
      "[2025-01-28 12:07:18] Zürich, Kantonsschule          (T9) [2025-01-28 12:07:30]\n",
      "[2025-01-28 12:08:48] Zürich, Kunsthaus              (T9) [2025-01-28 12:09:06]\n",
      "[2025-01-28 12:11:00] Zürich, Bellevue               (T9) [2025-01-28 12:11:30]\n",
      "[2025-01-28 12:13:06] Zürich, Bürkliplatz            (T9) [2025-01-28 12:13:24]\n",
      "[2025-01-28 12:14:36] Zürich, Kantonalbank           (T9) [2025-01-28 12:14:54]\n",
      "[2025-01-28 12:15:48] Zürich, Paradeplatz            (T9) [2025-01-28 12:16:12]\n",
      "[2025-01-28 12:17:36] Zürich, Sihlstrasse            (T9) [2025-01-28 12:17:54]\n",
      "[2025-01-28 12:19:24] Zürich, Stauffacher            (T9) [2025-01-28 12:20:54]\n",
      "[2025-01-28 12:21:54] Zürich, Werd                   (T9) [2025-01-28 12:22:06]\n",
      "[2025-01-28 12:23:06] Zürich, Bahnhof Wiedikon       (T9) [2025-01-28 12:23:30]\n",
      "[2025-01-28 12:24:54] Zürich, Schmiede Wiedikon      (T9) [2025-01-28 12:25:12]\n",
      "[2025-01-28 12:26:18] Zürich, Goldbrunnenplatz       (T9) [2025-01-28 12:26:36]\n",
      "[2025-01-28 12:27:30] Zürich, Talwiesenstrasse       (T9) [2025-01-28 12:27:48]\n",
      "[2025-01-28 12:28:24] Zürich, Heuried                (T9) [2025-01-28 12:28:24]\n",
      "\n"
     ]
    }
   ],
   "source": [
    "\"test timetable\"\n",
    "\n",
    "search_query = \"Letzi\"\n",
    "\n",
    "time = gt_parse_time(\"12:00:00\", lookup_day)\n",
    "stop = network.search_stops(search_query)[0]\n",
    "departures = stop.get_departures_after(time)\n",
    "first_departure = departures[0]\n",
    "\n",
    "print(f\"Next Departure from {stop.name} is at {first_departure.departure_time} with {first_departure.tram_name}:\")\n",
    "print(first_departure)"
   ]
  },
  {
   "cell_type": "code",
   "execution_count": 19,
   "metadata": {},
   "outputs": [
    {
     "name": "stdout",
     "output_type": "stream",
     "text": [
      "Start: Zürich, Albisgütli\n",
      "Destination: Zürich Flughafen, Bahnhof\n",
      "Total Time: 0:52:18\n",
      "Start Time: 2025-01-28 12:03:00\n",
      "Total Stops: 35\n"
     ]
    }
   ],
   "source": [
    "\"pathfinding using djikstra\"\n",
    "\n",
    "import bisect\n",
    "\n",
    "MAX_TRANSITION_SECONDS = 30 * 60\n",
    "MIN_CHANGE_BUFFER_SECONDS = 30\n",
    "\n",
    "def calc_dijkstra_path_to(start_time: datetime, start: TramStop, destination_criterium,\n",
    "                          start_tram: TramName=None, stop_weights: dict[TramStop, float]={}) -> TramPath:\n",
    "    visited_stops = set()\n",
    "    start_connection = TramPath([start], [start_time], [None], [None])\n",
    "    visit_stack = [(0, start_time, start_connection, start)]\n",
    "\n",
    "    while len(visit_stack) > 0:\n",
    "        _, curr_time, prev_stops, stop = visit_stack.pop(0)\n",
    "        if stop in visited_stops:\n",
    "            continue\n",
    "\n",
    "        visited_stops.add(stop)\n",
    "\n",
    "        connections = stop.get_departures_after(curr_time)\n",
    "        for connection in connections:\n",
    "            wait_seconds = (connection.arrival_time - curr_time).total_seconds()\n",
    "            \n",
    "            if len(prev_stops) >= 2:\n",
    "                last_tram_name = prev_stops.transportation_names[-2]\n",
    "            else:\n",
    "                last_tram_name = start_tram\n",
    "\n",
    "            if last_tram_name is not None and connection.tram_name != last_tram_name:\n",
    "                # it's a change of tram!\n",
    "                if wait_seconds < MIN_CHANGE_BUFFER_SECONDS:\n",
    "                    continue\n",
    "\n",
    "            if wait_seconds >= MAX_TRANSITION_SECONDS:\n",
    "                break\n",
    "\n",
    "            new_stop = connection.stops[1]\n",
    "            new_time = connection.arrival_times[1]\n",
    "            if new_stop in visited_stops:\n",
    "                continue\n",
    "\n",
    "            prev_stops_copy = prev_stops.slice(0)\n",
    "            prev_stops_copy.stop_departure_times[-1] = connection.departure_time\n",
    "            prev_stops_copy.transportation_names[-1] = connection.tram_name\n",
    "\n",
    "            prev_stops_copy.add_stop(new_stop, new_time, None, None)\n",
    "\n",
    "            if destination_criterium(new_stop):\n",
    "                return prev_stops_copy\n",
    "            \n",
    "            weight = stop_weights[new_stop] if new_stop in stop_weights else 0\n",
    "            bisect.insort(visit_stack, (weight, new_time, prev_stops_copy, new_stop))\n",
    "            \n",
    "    print(f\"{visited_stops=}\")\n",
    "    raise Exception(\"Couldn't find connection in time\")\n",
    "\n",
    "def calc_dijkstra_path_between(start_time: datetime, start: TramStop, destination: TramStop,\n",
    "                               start_tram: TramName=None, stop_weights: dict[TramStop, float]={}) -> TramPath:\n",
    "    destination_criterium = lambda stop: stop == destination\n",
    "    return calc_dijkstra_path_to(start_time, start, destination_criterium, start_tram=start_tram, stop_weights=stop_weights)\n",
    "\n",
    "stop1 = network.search_stops(\"Albis\")[0]\n",
    "stop2 = network.search_stops(\"Flug\")[0]\n",
    "start_time = gt_parse_time(\"12:00:00\", lookup_day)\n",
    "\n",
    "connection = calc_dijkstra_path_between(start_time, stop1, stop2)\n",
    "connection.print_summary()"
   ]
  },
  {
   "cell_type": "code",
   "execution_count": 20,
   "metadata": {},
   "outputs": [
    {
     "name": "stdout",
     "output_type": "stream",
     "text": [
      "Start: Zürich, Letzistrasse\n",
      "Destination: Zürich, Frankental\n",
      "Total Time: 11:00:24\n",
      "Start Time: 2025-01-28 10:00:18\n",
      "Total Stops: 364\n"
     ]
    }
   ],
   "source": [
    "\"nearest neighbour search\"\n",
    "\n",
    "def calc_nearest_neighbor_search(start_stop: TramStop, start_time: datetime, stop_weights: dict[TramStop, float]={}) -> TramPath:\n",
    "    unvisited_stops = set(network.stops)\n",
    "    unvisited_stops.remove(start_stop)\n",
    "    destination_criterium = lambda stop: stop in unvisited_stops\n",
    "    visit_count = 0\n",
    "\n",
    "    curr_stop = start_stop\n",
    "    curr_time = start_time\n",
    "    path = TramPath()\n",
    "    curr_tram = None\n",
    "    while len(unvisited_stops) > 0:\n",
    "        new_path = calc_dijkstra_path_to(curr_time, curr_stop, destination_criterium, curr_tram, stop_weights=stop_weights)\n",
    "        curr_time = new_path.arrival_times[-1]\n",
    "\n",
    "        visit_count += 1\n",
    "        path.add_path(new_path)\n",
    "        curr_stop = path.stops[-1]\n",
    "        curr_tram = path.transportation_names[-2]\n",
    "        unvisited_stops.remove(curr_stop)\n",
    "\n",
    "    return path\n",
    "\n",
    "letzi = network.search_stops(\"Letzi\")[0]\n",
    "start_time = gt_parse_time(\"10:00:00\", lookup_day)\n",
    "\n",
    "nearest_neighbour_path = calc_nearest_neighbor_search(letzi, start_time)\n",
    "nearest_neighbour_path.print_summary()"
   ]
  },
  {
   "cell_type": "code",
   "execution_count": 21,
   "metadata": {},
   "outputs": [
    {
     "name": "stdout",
     "output_type": "stream",
     "text": [
      "Start: Zürich, Letzistrasse\n",
      "Destination: Schlieren, Geissweid\n",
      "Total Time: 9:10:36\n",
      "Start Time: 2025-01-28 09:45:24\n",
      "Total Stops: 314\n"
     ]
    }
   ],
   "source": [
    "\"test loading old path\"\n",
    "\n",
    "genetic_path = TramPath.load(\"genetic.2025-01-28--9-10-36.txt\", network)\n",
    "genetic_path.print_summary()"
   ]
  },
  {
   "cell_type": "code",
   "execution_count": 22,
   "metadata": {},
   "outputs": [],
   "source": [
    "\"calc stop-heuristics for later optimization\"\n",
    "\n",
    "heuristic_map: dict[TramStop, dict[str, float]] = {}\n",
    "neighbour_map: dict[TramStop, set[TramStop]] = {}\n",
    "\n",
    "min_connections = min(len(s.connections) for s in network.stops)\n",
    "max_connections = max(len(s.connections) for s in network.stops)\n",
    "\n",
    "for stop in network.stops:\n",
    "    heuristics = {}\n",
    "    neighbour_map[stop] = set(c.stops[1] for c in stop.connections) - set([stop])\n",
    "    heuristics[\"popularity\"] = len(neighbour_map[stop])\n",
    "    heuristics[\"connectivity\"] = (len(stop.connections) - min_connections) / (max_connections - min_connections)\n",
    "    heuristics[\"spider-leg\"] = 1 if heuristics[\"popularity\"] == 1 else 0\n",
    "    heuristics[\"distance_sum\"] = sum(\n",
    "        1 / (haversine_distance(stop.coords, other.coords) * 10) ** 2\n",
    "        for other in network.stops if stop != other \n",
    "    )\n",
    "    heuristic_map[stop] = heuristics\n",
    "\n",
    "for i in range(len(network.stops)):\n",
    "    for stop in network.stops:\n",
    "        neighbours = neighbour_map[stop]\n",
    "        if len(neighbours) != 2:\n",
    "            continue\n",
    "        if any(heuristic_map[n][\"spider-leg\"] for n in neighbours):\n",
    "            heuristic_map[stop][\"spider-leg\"] = 1\n",
    "\n",
    "heuristic_names = list(list(heuristic_map.values())[0].keys())"
   ]
  },
  {
   "cell_type": "code",
   "execution_count": 56,
   "metadata": {},
   "outputs": [
    {
     "name": "stdout",
     "output_type": "stream",
     "text": [
      "Gen0: None, StopWeighting((-1.8417432351385952, 0.5698676442476639, -0.7457304917853452, -0.35602946522534634))\n"
     ]
    },
    {
     "ename": "TypeError",
     "evalue": "'<' not supported between instances of 'datetime.timedelta' and 'NoneType'",
     "output_type": "error",
     "traceback": [
      "\u001b[1;31m---------------------------------------------------------------------------\u001b[0m",
      "\u001b[1;31mTypeError\u001b[0m                                 Traceback (most recent call last)",
      "Cell \u001b[1;32mIn[56], line 101\u001b[0m\n\u001b[0;32m     98\u001b[0m best \u001b[38;5;241m=\u001b[39m population[\u001b[38;5;241m0\u001b[39m]\n\u001b[0;32m    100\u001b[0m \u001b[38;5;66;03m# update global best\u001b[39;00m\n\u001b[1;32m--> 101\u001b[0m \u001b[38;5;28;01mif\u001b[39;00m \u001b[43mbest\u001b[49m\u001b[38;5;241;43m.\u001b[39;49m\u001b[43mweighted_path\u001b[49m\u001b[38;5;241;43m.\u001b[39;49m\u001b[43mtime_delta\u001b[49m\u001b[43m(\u001b[49m\u001b[43m)\u001b[49m\u001b[43m \u001b[49m\u001b[38;5;241;43m<\u001b[39;49m\u001b[43m \u001b[49m\u001b[43mbest_genetic_delta\u001b[49m:\n\u001b[0;32m    102\u001b[0m     best_genetic_delta \u001b[38;5;241m=\u001b[39m best\u001b[38;5;241m.\u001b[39mweighted_path\u001b[38;5;241m.\u001b[39mtime_delta()\n\u001b[0;32m    103\u001b[0m     best_genetic_path \u001b[38;5;241m=\u001b[39m best\u001b[38;5;241m.\u001b[39mweighted_path\n",
      "\u001b[1;31mTypeError\u001b[0m: '<' not supported between instances of 'datetime.timedelta' and 'NoneType'"
     ]
    }
   ],
   "source": [
    "\"optimize heuristic weights to find optimal nearest neighbour search path\"\n",
    "\n",
    "import random, numpy\n",
    "from functools import cached_property\n",
    "\n",
    "start_stop = network.search_stops(\"Letzi\")[0]\n",
    "start_time = gt_parse_time(\"10:00:00\", lookup_day)\n",
    "\n",
    "MIN_TIME_DELTA = timedelta(hours=9)\n",
    "\n",
    "class StopWeighting:\n",
    "\n",
    "    def __init__(self, weights=None):\n",
    "        if weights is None:\n",
    "            self.weights = tuple(0 for _ in range(len(heuristic_names)))\n",
    "        else:\n",
    "            self.weights = tuple(weights)\n",
    "            assert len(self.weights) == len(heuristic_names)\n",
    "\n",
    "    def mutate(self, mutation_chance: float, mutation_rate: float) -> \"StopWeighting\":\n",
    "        new_weights = self.weights[:]\n",
    "        for i in range(len(self.weights)):\n",
    "            if random.random() < mutation_chance:\n",
    "                new_weights[i] = self.weights[i] + numpy.random.normal(0, 1) * mutation_rate\n",
    "        return StopWeighting(new_weights)\n",
    "    \n",
    "    def __repr__(self):\n",
    "        return f\"{self.__class__.__name__}({self.weights!r})\"\n",
    "    \n",
    "    def __str__(self):\n",
    "        return repr(self)\n",
    "\n",
    "    def copy(self):\n",
    "        return StopWeighting(self.weights[:])\n",
    "    \n",
    "    @classmethod\n",
    "    def zero(cls):\n",
    "        return StopWeighting()\n",
    "    \n",
    "    @classmethod\n",
    "    def random(cls):\n",
    "        return StopWeighting([\n",
    "            numpy.random.normal(0, 1)\n",
    "            for _ in range(len(heuristic_names))\n",
    "        ])\n",
    "\n",
    "    def make_map(self) -> dict[TramStop, float]:\n",
    "        return {\n",
    "            stop: sum(\n",
    "                self.weights[i] * heuristic_map[stop][h]\n",
    "                for i, h in enumerate(heuristic_names)\n",
    "            )\n",
    "            for stop in network.stops\n",
    "        }\n",
    "    \n",
    "    @cached_property\n",
    "    def weighted_path(self) -> TramPath:\n",
    "        try:\n",
    "            return calc_nearest_neighbor_search(\n",
    "                start_stop, start_time, self.make_map()\n",
    "            )\n",
    "        except KeyboardInterrupt:\n",
    "            raise\n",
    "        except:\n",
    "            return None\n",
    "    \n",
    "    def calc_score(self) -> float:\n",
    "        weighted_path = self.weighted_path\n",
    "        if weighted_path is None:\n",
    "            delta = weighted_path.time_delta() - MIN_TIME_DELTA\n",
    "            return 1 / delta.total_seconds()\n",
    "        else:\n",
    "            return 0\n",
    "    \n",
    "    def __hash__(self):\n",
    "        return hash(self.weights)\n",
    "\n",
    "population = [\n",
    "    StopWeighting.random()\n",
    "    for i in range(100)\n",
    "]\n",
    "\n",
    "best_genetic_path = None\n",
    "best_genetic_delta = None\n",
    "\n",
    "for i in range(1):\n",
    "    print(f\"Gen{i}: {best_genetic_delta}, {population[0]}\")\n",
    "\n",
    "    # evaluation\n",
    "    evaluations = {\n",
    "        weighting: weighting.calc_score()\n",
    "        for weighting in population\n",
    "    }\n",
    "\n",
    "    # selection\n",
    "    population.sort(key=lambda w: evaluations[w], reverse=True)\n",
    "    parents = population[:10]\n",
    "    best = population[0]\n",
    "\n",
    "    # update global best\n",
    "    if best_genetic_delta is None or best.weighted_path.time_delta() < best_genetic_delta:\n",
    "        best_genetic_delta = best.weighted_path.time_delta()\n",
    "        best_genetic_path = best.weighted_path\n",
    "\n",
    "    # reproduction and mutation\n",
    "    for i in range(10, len(population)):\n",
    "        random_parent = random.choice(parents)\n",
    "        population[i] = random_parent.mutate(0.3, 0.3)"
   ]
  },
  {
   "cell_type": "code",
   "execution_count": 53,
   "metadata": {},
   "outputs": [
    {
     "data": {
      "text/plain": [
       "StopWeighting([-1.0529468945117268, -0.2640859471180964, 0.38084221291094267, -1.102662522791521])"
      ]
     },
     "execution_count": 53,
     "metadata": {},
     "output_type": "execute_result"
    }
   ],
   "source": [
    "best_weighting"
   ]
  }
 ],
 "metadata": {
  "kernelspec": {
   "display_name": "Python 3",
   "language": "python",
   "name": "python3"
  },
  "language_info": {
   "codemirror_mode": {
    "name": "ipython",
    "version": 3
   },
   "file_extension": ".py",
   "mimetype": "text/x-python",
   "name": "python",
   "nbconvert_exporter": "python",
   "pygments_lexer": "ipython3",
   "version": "3.9.13"
  }
 },
 "nbformat": 4,
 "nbformat_minor": 2
}
